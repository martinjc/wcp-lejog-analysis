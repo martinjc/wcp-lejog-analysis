{
 "cells": [
  {
   "cell_type": "code",
   "execution_count": 40,
   "metadata": {},
   "outputs": [],
   "source": [
    "# stdlib imports\n",
    "import os\n",
    "from pathlib import Path\n",
    "from datetime import timedelta\n",
    "\n",
    "# external imports\n",
    "import pandas as pd"
   ]
  },
  {
   "cell_type": "code",
   "execution_count": 36,
   "metadata": {},
   "outputs": [],
   "source": [
    "RUNS = ['WCP', 'LEJOG']\n",
    "\n",
    "# length of each run (miles)\n",
    "LENGTHS = {\n",
    "    'WCP': 870,\n",
    "    'LEJOG': 874\n",
    "}\n",
    "\n",
    "# target lengths\n",
    "TARGETS = [365,350,300,250,200,150,100]\n",
    "\n",
    "# how many miles should we run each day for the given target?\n",
    "RATES = {}\n",
    "for run in RUNS:\n",
    "    RATES[run] = {}\n",
    "    for target in TARGETS:\n",
    "        RATES[run][target] = LENGTHS[run]/target"
   ]
  },
  {
   "cell_type": "code",
   "execution_count": 27,
   "metadata": {},
   "outputs": [
    {
     "data": {
      "text/plain": [
       "PosixPath('/Users/martinchorley/Dropbox/home/shared/martin/WCP.xlsx')"
      ]
     },
     "execution_count": 27,
     "metadata": {},
     "output_type": "execute_result"
    }
   ],
   "source": [
    "# all the data is in the dropbox\n",
    "DATA_FILE = Path.home() / 'Dropbox' / 'home' / 'shared' / 'martin' / 'WCP.xlsx'\n",
    "DATA_FILE"
   ]
  },
  {
   "cell_type": "code",
   "execution_count": 28,
   "metadata": {},
   "outputs": [
    {
     "data": {
      "text/plain": [
       "{'WCP':      Day       Date  Mileage  Cumulative  Daily Rate  Remaining  \\\n",
       " 0      1 2020-06-15      NaN        0.00    0.000000     870.00   \n",
       " 1      2 2020-06-16     6.29        6.29    3.145000     863.71   \n",
       " 2      3 2020-06-17      NaN        6.29    2.096667     863.71   \n",
       " 3      4 2020-06-18     3.71       10.00    2.500000     860.00   \n",
       " 4      5 2020-06-19     2.85       12.85    2.570000     857.15   \n",
       " ..   ...        ...      ...         ...         ...        ...   \n",
       " 361  362 2021-06-11      NaN      104.28    0.288066     765.72   \n",
       " 362  363 2021-06-12      NaN      104.28    0.287273     765.72   \n",
       " 363  364 2021-06-13      NaN      104.28    0.286484     765.72   \n",
       " 364  365 2021-06-14      NaN      104.28    0.285699     765.72   \n",
       " 365  366 2021-06-15      NaN      104.28    0.284918     765.72   \n",
       " \n",
       "      Pace Required  Variance  \n",
       " 0         2.390110 -2.390110  \n",
       " 1         2.379366  0.765634  \n",
       " 2         2.385939 -0.289273  \n",
       " 3         2.382271  0.117729  \n",
       " 4         2.380972  0.189028  \n",
       " ..             ...       ...  \n",
       " 361     255.240000       NaN  \n",
       " 362     382.860000       NaN  \n",
       " 363     765.720000       NaN  \n",
       " 364            NaN       NaN  \n",
       " 365            NaN       NaN  \n",
       " \n",
       " [366 rows x 8 columns],\n",
       " 'LEJOG':      Day       Date  Mileage  Cumulative  Daily Rate  Remaining  Pace Required\n",
       " 0      1 2020-07-13    12.99       12.99   12.990000     861.01       2.365412\n",
       " 1      2 2020-07-14      NaN       12.99    6.495000     861.01       2.371928\n",
       " 2      3 2020-07-15      NaN       12.99    4.330000     861.01       2.378481\n",
       " 3      4 2020-07-16     6.45       19.44    4.860000     854.56       2.367202\n",
       " 4      5 2020-07-17      NaN       19.44    3.888000     854.56       2.373778\n",
       " ..   ...        ...      ...         ...         ...        ...            ...\n",
       " 361  362 2021-07-09      NaN       22.56    0.062320     851.44     283.813333\n",
       " 362  363 2021-07-10      NaN       22.56    0.062149     851.44     425.720000\n",
       " 363  364 2021-07-11      NaN       22.56    0.061978     851.44     851.440000\n",
       " 364  365 2021-07-12      NaN       22.56    0.061808     851.44            NaN\n",
       " 365  366 2021-07-13      NaN       22.56    0.061639     851.44            NaN\n",
       " \n",
       " [366 rows x 7 columns]}"
      ]
     },
     "execution_count": 28,
     "metadata": {},
     "output_type": "execute_result"
    }
   ],
   "source": [
    "# let's read in the run data\n",
    "run_data = pd.read_excel(DATA_FILE, sheet_name=['WCP', 'LEJOG'], header=1)\n",
    "run_data"
   ]
  },
  {
   "cell_type": "code",
   "execution_count": 30,
   "metadata": {},
   "outputs": [
    {
     "data": {
      "text/plain": [
       "{'WCP':     Day       Date  Mileage  Cumulative  Daily Rate  Remaining  Pace Required  \\\n",
       " 1     2 2020-06-16     6.29        6.29    3.145000     863.71       2.379366   \n",
       " 3     4 2020-06-18     3.71       10.00    2.500000     860.00       2.382271   \n",
       " 4     5 2020-06-19     2.85       12.85    2.570000     857.15       2.380972   \n",
       " 5     6 2020-06-20     3.78       16.63    2.771667     853.37       2.377075   \n",
       " 7     8 2020-06-22     9.92       26.55    3.318750     843.45       2.362605   \n",
       " 9    10 2020-06-24     4.42       30.97    3.097000     839.03       2.363465   \n",
       " 11   12 2020-06-26     7.52       38.49    3.207500     831.51       2.355552   \n",
       " 13   14 2020-06-28     3.14       41.63    2.973571     828.37       2.360028   \n",
       " 14   15 2020-06-29     1.12       42.75    2.850000     827.25       2.363571   \n",
       " 15   16 2020-06-30    12.84       55.59    3.474375     814.41       2.333553   \n",
       " 16   17 2020-07-01     1.10       56.69    3.334706     813.31       2.337098   \n",
       " 17   18 2020-07-02     3.31       60.00    3.333333     810.00       2.334294   \n",
       " 19   20 2020-07-04     4.23       64.23    3.211500     805.77       2.335565   \n",
       " 23   24 2020-07-08     6.87       71.10    2.962500     798.90       2.342815   \n",
       " 25   26 2020-07-10     6.79       77.89    2.995769     792.11       2.336608   \n",
       " 26   27 2020-07-11     2.64       80.53    2.982593     789.47       2.335710   \n",
       " 27   28 2020-07-12     1.19       81.72    2.918571     788.28       2.339110   \n",
       " 28   29 2020-07-13    12.99       94.71    3.265862     775.29       2.307411   \n",
       " 31   32 2020-07-16     6.45      101.16    3.161250     768.84       2.308829   \n",
       " 33   34 2020-07-18     3.12      104.28    3.067059     765.72       2.313353   \n",
       " \n",
       "     Variance  \n",
       " 1   0.765634  \n",
       " 3   0.117729  \n",
       " 4   0.189028  \n",
       " 5   0.394591  \n",
       " 7   0.956145  \n",
       " 9   0.733535  \n",
       " 11  0.851948  \n",
       " 13  0.613543  \n",
       " 14  0.486429  \n",
       " 15  1.140822  \n",
       " 16  0.997608  \n",
       " 17  0.999039  \n",
       " 19  0.875935  \n",
       " 23  0.619685  \n",
       " 25  0.659162  \n",
       " 26  0.646883  \n",
       " 27  0.579462  \n",
       " 28  0.958451  \n",
       " 31  0.852421  \n",
       " 33  0.753705  ,\n",
       " 'LEJOG':    Day       Date  Mileage  Cumulative  Daily Rate  Remaining  Pace Required\n",
       " 0    1 2020-07-13    12.99       12.99       12.99     861.01       2.365412\n",
       " 3    4 2020-07-16     6.45       19.44        4.86     854.56       2.367202\n",
       " 5    6 2020-07-18     3.12       22.56        3.76     851.44       2.371699}"
      ]
     },
     "execution_count": 30,
     "metadata": {},
     "output_type": "execute_result"
    }
   ],
   "source": [
    "# drop the days we didn't run (or haven't run yet)\n",
    "for run in RUNS:\n",
    "    run_data[run] = run_data[run].dropna()\n",
    "    \n",
    "run_data"
   ]
  },
  {
   "cell_type": "code",
   "execution_count": 34,
   "metadata": {},
   "outputs": [
    {
     "name": "stdout",
     "output_type": "stream",
     "text": [
      "{'WCP': 3.0670588235294116, 'LEJOG': 3.7600000000000002}\n",
      "{'WCP': 765.72, 'LEJOG': 851.44}\n"
     ]
    }
   ],
   "source": [
    "# how many miles have we got left to do, and how many are we doing on average every day\n",
    "\n",
    "CURRENT_RATES = {}\n",
    "REMAINING = {}\n",
    "\n",
    "for run in RUNS:\n",
    "    last_run = run_data[run].iloc[-1]\n",
    "    CURRENT_RATES[run] = last_run['Cumulative']/last_run['Day']\n",
    "    REMAINING[run] = LENGTHS[run] - last_run['Cumulative']\n",
    "    \n",
    "print(CURRENT_RATES)\n",
    "print(REMAINING)"
   ]
  },
  {
   "cell_type": "code",
   "execution_count": 35,
   "metadata": {},
   "outputs": [
    {
     "name": "stdout",
     "output_type": "stream",
     "text": [
      "{'WCP': 249.65937859608746, 'LEJOG': 226.4468085106383}\n"
     ]
    }
   ],
   "source": [
    "DAYS_TO_FINISH = {}\n",
    "for run in RUNS:\n",
    "    DAYS_TO_FINISH[run] = REMAINING[run] / CURRENT_RATES[run]\n",
    "print(DAYS_TO_FINISH)"
   ]
  },
  {
   "cell_type": "code",
   "execution_count": 46,
   "metadata": {},
   "outputs": [
    {
     "name": "stdout",
     "output_type": "stream",
     "text": [
      "{'WCP': datetime.date(2021, 2, 20), 'LEJOG': datetime.date(2021, 2, 24)}\n"
     ]
    }
   ],
   "source": [
    "PROJECTED_END = {}\n",
    "for run in RUNS:\n",
    "    first_run = run_data[run].iloc[0]\n",
    "    start_date = first_run['Date']\n",
    "    PROJECTED_END[run] = (start_date + timedelta(days=DAYS_TO_FINISH[run])).date()\n",
    "print(PROJECTED_END)"
   ]
  },
  {
   "cell_type": "code",
   "execution_count": null,
   "metadata": {},
   "outputs": [],
   "source": []
  }
 ],
 "metadata": {
  "kernelspec": {
   "display_name": "Python 3",
   "language": "python",
   "name": "python3"
  },
  "language_info": {
   "codemirror_mode": {
    "name": "ipython",
    "version": 3
   },
   "file_extension": ".py",
   "mimetype": "text/x-python",
   "name": "python",
   "nbconvert_exporter": "python",
   "pygments_lexer": "ipython3",
   "version": "3.8.3"
  }
 },
 "nbformat": 4,
 "nbformat_minor": 4
}
